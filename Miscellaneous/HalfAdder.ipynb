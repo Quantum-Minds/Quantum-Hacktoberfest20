{
 "cells": [
  {
   "cell_type": "markdown",
   "metadata": {},
   "source": [
    "# Half Adder"
   ]
  },
  {
   "cell_type": "markdown",
   "metadata": {},
   "source": [
    "In classical computers, we use full adders and half adders for addition. \n",
    "\n",
    "Half adder takes <b> two inputs and produces two outputs such as Sum (as LSB) and Carry (as MSB) </b>\n",
    "\n",
    "In Half adder circuit we use XOR gate for sum operation and AND gate for carry operation.\n",
    "\n",
    "<i> We will use this gate level approach for qubit implementation of Half adder. </i>\n"
   ]
  },
  {
   "cell_type": "markdown",
   "metadata": {},
   "source": [
    "<img src=\"files/fig1.png\">"
   ]
  },
  {
   "cell_type": "markdown",
   "metadata": {},
   "source": [
    "<b> To get started we import all the necessary libraries and make sure we are running at latest version. </b>"
   ]
  },
  {
   "cell_type": "code",
   "execution_count": 1,
   "metadata": {},
   "outputs": [
    {
     "name": "stdout",
     "output_type": "stream",
     "text": [
      "{'qiskit-terra': '0.16.3', 'qiskit-aer': '0.7.3', 'qiskit-ignis': '0.5.1', 'qiskit-ibmq-provider': '0.11.1', 'qiskit-aqua': '0.8.1', 'qiskit': '0.23.4'}\n"
     ]
    }
   ],
   "source": [
    "# import qiskit library and printing the version\n",
    "import qiskit\n",
    "print(qiskit.__qiskit_version__)"
   ]
  },
  {
   "cell_type": "code",
   "execution_count": 2,
   "metadata": {},
   "outputs": [],
   "source": [
    "# import necessary libraries\n",
    "from qiskit import QuantumRegister, ClassicalRegister, QuantumCircuit\n",
    "from qiskit import execute, Aer\n"
   ]
  },
  {
   "cell_type": "markdown",
   "metadata": {},
   "source": [
    "First phase implementation of <b> Half adder would be implementing XOR gate. </b> XOR gates produce output 1 when its two inputs are different. We use CNOT Gate for this functionality. CNOT gate flips  the value on the second bit depending on the value of the control bit (if control bit is 1,then flip the second bit otherwise no change."
   ]
  },
  {
   "cell_type": "markdown",
   "metadata": {},
   "source": [
    "Second phase implementation of <b> Half Adder would be implementing AND gate. </b> AND gate produce ouput 1 when its two \n",
    "inputs are 1. we can use the CCNOT gate. If we can use control qubits (x and y) as input qubits \n",
    "we can achieve the AND operation.Then the result of AND is XOR with input qubit (z). \n",
    "If we can make Z always equal to 0 it will not flip the results of the AND operation. \n",
    "In another word, we are using the Z qubit as an ancillary bit.\n"
   ]
  },
  {
   "cell_type": "code",
   "execution_count": 3,
   "metadata": {},
   "outputs": [
    {
     "data": {
      "image/png": "[encoded data removed]",
      "text/plain": [
       "<Figure size 568.197x264.88 with 1 Axes>"
      ]
     },
     "execution_count": 3,
     "metadata": {},
     "output_type": "execute_result"
    }
   ],
   "source": [
    "# creating quantum register with 3 quantum bits\n",
    "q = QuantumRegister(3,'q')\n",
    "# creating classical register with 2 classical bits\n",
    "c = ClassicalRegister(2,'c')\n",
    "# Creating a circuit with 3 quantum bits and 2 classical bits\n",
    "qc = QuantumCircuit(q,c)\n",
    "\n",
    "# inputs\n",
    "qc.x(0) # Comment this line for qubit 0 to 0\n",
    "qc.x(1) # Comment this line for qubit 1 to 0\n",
    "\n",
    "qc.barrier()\n",
    "\n",
    "# Applying AND operation and put result to Qubit 2\n",
    "qc.ccx(0,1,2)\n",
    "qc.barrier()\n",
    "\n",
    "# Applying XOR operation and put result to Qubit 1\n",
    "qc.cx(0,1)\n",
    "qc.barrier()\n",
    "\n",
    "# Reading outputs\n",
    "qc.measure(1,0) # Reading XOR value ( sum bit )\n",
    "qc.measure(2,1) # Reading AND value ( carry-out bit )\n",
    "\n",
    "qc.draw(output='mpl')"
   ]
  },
  {
   "cell_type": "markdown",
   "metadata": {},
   "source": [
    "Running the quantum circuit for 1024 times in the local simulator"
   ]
  },
  {
   "cell_type": "code",
   "execution_count": 4,
   "metadata": {},
   "outputs": [
    {
     "name": "stdout",
     "output_type": "stream",
     "text": [
      "16 qubit Randomly Generated is:  {'10': 1024} \n",
      "\n"
     ]
    }
   ],
   "source": [
    "# Run the experiment 1024 times and get stats\n",
    "job = execute(qc,Aer.get_backend('qasm_simulator'),shots=1024)\n",
    "counts = job.result().get_counts(qc)\n",
    "print('16 qubit Randomly Generated is: ',counts,'\\n')"
   ]
  }
 ],
 "metadata": {
  "kernelspec": {
   "display_name": "Python 3",
   "language": "python",
   "name": "python3"
  },
  "language_info": {
   "codemirror_mode": {
    "name": "ipython",
    "version": 3
   },
   "file_extension": ".py",
   "mimetype": "text/x-python",
   "name": "python",
   "nbconvert_exporter": "python",
   "pygments_lexer": "ipython3",
   "version": "3.8.8"
  }
 },
 "nbformat": 4,
 "nbformat_minor": 4
}
