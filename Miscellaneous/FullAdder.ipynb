{
 "cells": [
  {
   "cell_type": "markdown",
   "metadata": {},
   "source": [
    "# Full Adder "
   ]
  },
  {
   "cell_type": "markdown",
   "metadata": {},
   "source": [
    "Half Adder can add only two numbers. To overcome this limitation, full adder came into picture. \n",
    "\n",
    "In Full adder implementation, we use two half adders and OR gate. We already implemented the half adder module in qiskit.\n",
    "\n",
    "we need to implement OR gate in qiskit to complete this module\n",
    "\n",
    "\n"
   ]
  },
  {
   "cell_type": "markdown",
   "metadata": {},
   "source": [
    "<img src=\"files/fig3.png\">"
   ]
  },
  {
   "cell_type": "markdown",
   "metadata": {},
   "source": [
    "<img src=\"files/fig2.png\">"
   ]
  },
  {
   "cell_type": "markdown",
   "metadata": {},
   "source": [
    "#### Truth Table of Full adder"
   ]
  },
  {
   "cell_type": "markdown",
   "metadata": {},
   "source": [
    "<img src=\"files/fig4.png\">"
   ]
  },
  {
   "cell_type": "markdown",
   "metadata": {},
   "source": [
    "<h2> To get started we import all the necessary libraries and make sure we are running at latest version. </h2>"
   ]
  },
  {
   "cell_type": "code",
   "execution_count": 1,
   "metadata": {},
   "outputs": [
    {
     "name": "stdout",
     "output_type": "stream",
     "text": [
      "{'qiskit-terra': '0.16.3', 'qiskit-aer': '0.7.3', 'qiskit-ignis': '0.5.1', 'qiskit-ibmq-provider': '0.11.1', 'qiskit-aqua': '0.8.1', 'qiskit': '0.23.4'}\n"
     ]
    }
   ],
   "source": [
    "# import qiskit library and printing the version\n",
    "import qiskit\n",
    "print(qiskit.__qiskit_version__)"
   ]
  },
  {
   "cell_type": "code",
   "execution_count": 2,
   "metadata": {},
   "outputs": [],
   "source": [
    "# import necessary libraries\n",
    "from qiskit import QuantumRegister, ClassicalRegister, QuantumCircuit\n",
    "from qiskit import execute, Aer\n"
   ]
  },
  {
   "cell_type": "markdown",
   "metadata": {},
   "source": [
    "<h2> we can create OR gate using NOT and AND gates. OR gates can be implemented  </h2>"
   ]
  },
  {
   "cell_type": "markdown",
   "metadata": {},
   "source": [
    "<img src=\"files/fig5.png\">"
   ]
  },
  {
   "cell_type": "code",
   "execution_count": 7,
   "metadata": {},
   "outputs": [
    {
     "name": "stdout",
     "output_type": "stream",
     "text": [
      "output of OR gate {'1': 1024} \n",
      "\n"
     ]
    }
   ],
   "source": [
    "# creating quantum register with 3 quantum bits\n",
    "q = QuantumRegister(3,'q')\n",
    "# creating classical register with 1 classical bits\n",
    "c = ClassicalRegister(1,'c')\n",
    "# Creating a circuit with 3 quantum bits and 1 classical bits\n",
    "qc = QuantumCircuit(q,c)\n",
    "\n",
    "# inputs\n",
    "qc.x(0) # Comment this line for qubit 0 to 0\n",
    "qc.x(1) # Comment this line for qubit 1 to 0\n",
    "\n",
    "qc.barrier()\n",
    "\n",
    "# OR gate implementation\n",
    "qc.x(0) \n",
    "qc.x(1)\n",
    "\n",
    "# AND gate\n",
    "qc.ccx(0,1,2)\n",
    "\n",
    "# Adding NOT operation to output of AND gate\n",
    "qc.x(2)\n",
    "qc.barrier()\n",
    "\n",
    "# Measuring Qbit2 and put result to classical bit\n",
    "qc.measure(2,0)\n",
    "qc.draw()\n",
    "\n",
    "\n",
    "# Run the experiment 1024 times and get stats\n",
    "job = execute(qc,Aer.get_backend('qasm_simulator'),shots=1024)\n",
    "counts = job.result().get_counts(qc)\n",
    "print('output of OR gate',counts,'\\n')"
   ]
  },
  {
   "cell_type": "markdown",
   "metadata": {},
   "source": [
    "<h2> Final implementation of Full adder </h2>"
   ]
  },
  {
   "cell_type": "code",
   "execution_count": 8,
   "metadata": {},
   "outputs": [
    {
     "name": "stdout",
     "output_type": "stream",
     "text": [
      "output of OR gate {'11': 1024} \n",
      "\n"
     ]
    }
   ],
   "source": [
    "# creating quantum register with 3 quantum bits\n",
    "q = QuantumRegister(8,'q')\n",
    "# creating classical register with 2 classical bits\n",
    "c = ClassicalRegister(2,'c')\n",
    "# Creating a circuit with 8 quantum bits and 2 classical bits\n",
    "qc = QuantumCircuit(q,c)\n",
    "\n",
    "# inputs\n",
    "qc.x(0) # Comment this line for qubit 0 to 0 \n",
    "qc.x(1) # Comment this line for qubit 1 to 0\n",
    "qc.x(2) # Comment this line for qubit 1 to 0 (carry-in bit)\n",
    "\n",
    "\n",
    "qc.barrier()\n",
    "\n",
    "# AND gate1 implementation\n",
    "qc.ccx(0,1,3)\n",
    "qc.barrier()\n",
    "\n",
    "# OR gate1 implementation\n",
    "qc.cx(0,4) \n",
    "qc.cx(1,4)\n",
    "qc.barrier()\n",
    "\n",
    "# OR gate2 implementation\n",
    "qc.cx(2,5) \n",
    "qc.cx(4,5)\n",
    "qc.barrier()\n",
    "\n",
    "# AND gate2 implementation\n",
    "qc.ccx(2,4,6)\n",
    "qc.barrier()\n",
    "\n",
    "# OR gate implementation\n",
    "qc.x(3)\n",
    "qc.x(6)\n",
    "qc.ccx(3,6,7)\n",
    "qc.x(7)\n",
    "qc.barrier()\n",
    "\n",
    "# Measuring and put result to classical bit\n",
    "qc.measure(5,0) # sum\n",
    "qc.measure(7,1) # carry-out\n",
    "qc.draw()\n",
    "\n",
    "# Run the experiment 1024 times and get stats\n",
    "job = execute(qc,Aer.get_backend('qasm_simulator'),shots=1024)\n",
    "counts = job.result().get_counts(qc)\n",
    "print('output of OR gate',counts,'\\n')"
   ]
  }
 ],
 "metadata": {
  "kernelspec": {
   "display_name": "Python 3",
   "language": "python",
   "name": "python3"
  },
  "language_info": {
   "codemirror_mode": {
    "name": "ipython",
    "version": 3
   },
   "file_extension": ".py",
   "mimetype": "text/x-python",
   "name": "python",
   "nbconvert_exporter": "python",
   "pygments_lexer": "ipython3",
   "version": "3.8.8"
  }
 },
 "nbformat": 4,
 "nbformat_minor": 4
}
